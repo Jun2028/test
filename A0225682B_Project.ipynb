{
 "cells": [
  {
   "cell_type": "markdown",
   "id": "d4768f11-dcc1-44b6-a4f8-cc151f9c843e",
   "metadata": {
    "tags": []
   },
   "source": [
    "# **Implementing First-order Backpropagation of MLP Using *numpy***\n",
    "*A PC3270 Project by Zhai Jun (A0225682B)*"
   ]
  },
  {
   "cell_type": "markdown",
   "id": "042fa603-d5b4-4045-9b0c-925776e89bef",
   "metadata": {
    "tags": []
   },
   "source": [
    "----\n",
    "## Abstract\n",
    "This project aims to implement from the beginning a fully-functioning Multilayer Perceptrons (MLP), mainly the **backpropagation algorithm** (backprop), with `numpy`. I will largely refer to Murphy Section 13.3 and use the Stochastic Gradient Descent (SGD) algorithm for my backprop. This implementation will be compared to and evaluated against one built with `tensorflow.keras` for accuracy of classification of the test data. I will use `tf.keras.datasets.mnist` (MNIST dataset of hand written digits) to generate the train and test data."
   ]
  },
  {
   "cell_type": "markdown",
   "id": "e7174aa8-7ef4-4c96-a902-b7654de057d3",
   "metadata": {},
   "source": [
    "## 1. Motivation\n",
    "<img src=\"Animation.gif\" width=\"750\" align=\"center\">\n",
    "<b>Figure 1. Screenshot of a MLP Classifier in Work </b>\n",
    "(<i>Source</i>: <a href=\"http://playground.tensorflow.org/\"> <i>Tensorflow Playground</i></a>)<br><br>\n",
    "MLP is the foundation of all modern feedforward Artificial Neural Network (ANN) architectures. It carries great importance for the development of subsequent Neural Networks such as Convolutional Neural Networks (CNNs).<br>\n",
    "\n",
    "In the eleventh lecture we were introduced to the forward- and back- propagation algorithms. However, only the forward propagation was present in our laboratory. Our missions involved only rewritting the forward propagation and retrieving activations from a MLP. No practical emphasis was placed on how the algorithm learns the weights and biases -- how the model trains to classify labels. This is the job of the backprop algorithm. Admittedly, the backprop is more complicated and mathematically intense. To have a complete understanding of how MLP learns the weights and biases, an understanding of backprop is essential. Therefore, I think it is vastly beneficial for me to implement this from the very begining, to have a firm understanding of neural networks for my future studies."
   ]
  },
  {
   "cell_type": "markdown",
   "id": "7cfacb65-b33c-40ff-94a8-fdb1e4343864",
   "metadata": {},
   "source": [
    "## 2. Dataset\n",
    "\n",
    "The data set that is chosen for learning is the Modified National Institute of Standards and Technology (MNIST) database of handwritten digits. It has a training set of 60,000 examples, and a test set of 10,000 examples. The digits are greyscale, have been size-normalized and centered in a fixed-size image. Generally, it is a good database for people who want to try learning techniques and pattern recognition methods on real-world data while spending minimal efforts on preprocessing and formatting. \n",
    "\n",
    "It is decided not to use simplier datasets such as `blinkers.py` from PC3270 library since such a classification can be done with a simplest implementation of the Perceptron algorithm and do not require MLP. As the primary example of Murphy, MNIST is the classic dataset for testing out MLPs.\n",
    "\n",
    "However, it is worth noting that image data such as `tf.keras.datasets.mnist` and `tf.keras.datasets.cifar10` do not work best with MLP. This is because MLP does not exhibit translation invariance like CNNs, which takes in data as matrices instead of having them flattened into arrays. It is expected that if the images are translated or rotated, the trained MLP's model accuracy will be low, same goes to one trained with tensorflow implementation of MLP with a better optimizer than SGD (such as Adam). This is an intrinsic limitation of MLP's archtecture. Under those circumstances, `tensorflow.keras` does not produce high enough accuracy benchmark for judging whether my implementation of MLP is a good one. We will see more of that later in the discussion section."
   ]
  },
  {
   "cell_type": "markdown",
   "id": "bf005eda-e8ad-4d05-95d4-25bfc3701e3e",
   "metadata": {},
   "source": [
    "My data is generated as below."
   ]
  },
  {
   "cell_type": "code",
   "execution_count": 91,
   "id": "0570d53a-dc23-4c44-b3ea-6a9a51eca955",
   "metadata": {},
   "outputs": [],
   "source": [
    "from keras.datasets import mnist"
   ]
  },
  {
   "cell_type": "markdown",
   "id": "77012a3d-01e7-4c17-92e7-1e3925b9d8ce",
   "metadata": {},
   "source": [
    "We extract MNIST from `keras.datasets.mnist`."
   ]
  },
  {
   "cell_type": "code",
   "execution_count": 92,
   "id": "6ebfe059-c121-409a-88c2-024500e06972",
   "metadata": {},
   "outputs": [
    {
     "name": "stdout",
     "output_type": "stream",
     "text": [
      "X_train:  (60000, 28, 28)\n",
      "Y_train:  (60000,)\n",
      "X_test:   (10000, 28, 28)\n",
      "Y_test:   (10000,)\n"
     ]
    }
   ],
   "source": [
    "(X_train, Y_train), (X_test, Y_test) = mnist.load_data()\n",
    "print('X_train: ', str(X_train.shape))\n",
    "print('Y_train: ', str(Y_train.shape))\n",
    "print('X_test:  ', str(X_test.shape))\n",
    "print('Y_test:  ', str(Y_test.shape))"
   ]
  },
  {
   "cell_type": "code",
   "execution_count": 93,
   "id": "390dc81b-168c-4200-8a55-8d5d1709fd25",
   "metadata": {},
   "outputs": [],
   "source": [
    "import matplotlib.pyplot as plt\n",
    "import numpy as np\n",
    "from sklearn.preprocessing import OneHotEncoder"
   ]
  },
  {
   "cell_type": "markdown",
   "id": "f38ca8d9-718f-44ac-9210-f97315f1c813",
   "metadata": {},
   "source": [
    "Sample images of the MNIST dataset are plotted below."
   ]
  },
  {
   "cell_type": "code",
   "execution_count": 94,
   "id": "d30690fc-d84d-47d9-88e3-9569ccb408ab",
   "metadata": {},
   "outputs": [
    {
     "data": {
      "image/png": "[encoded data removed]",
      "text/plain": [
       "<Figure size 720x432 with 10 Axes>"
      ]
     },
     "metadata": {
      "needs_background": "light"
     },
     "output_type": "display_data"
    }
   ],
   "source": [
    "fig, ax = plt.subplots(nrows=2, ncols=5, figsize=(10,6))\n",
    "for i in range(10):\n",
    "    img = X_train[Y_train == i][5]\n",
    "    ax[int(i/5)][i%5].imshow(img, cmap='gray')"
   ]
  },
  {
   "cell_type": "markdown",
   "id": "c98405f4-ce2b-4ed5-99f8-ed4a32e0bf63",
   "metadata": {},
   "source": [
    "**Figure 2a. MNIST Handwritten Digits**"
   ]
  },
  {
   "cell_type": "code",
   "execution_count": 95,
   "id": "714fa501-742b-4255-ab9d-f3dfcc236de8",
   "metadata": {},
   "outputs": [
    {
     "data": {
      "image/png": "[encoded data removed]",
      "text/plain": [
       "<Figure size 720x432 with 10 Axes>"
      ]
     },
     "metadata": {
      "needs_background": "light"
     },
     "output_type": "display_data"
    }
   ],
   "source": [
    "#I also rotated each digit counter-clockwise by 90 degrees, this will only be used in the discussion section\n",
    "X_train_T, X_test_T = np.asarray([X.T for X in X_train]), np.asarray([X.T for X in X_test])\n",
    "X_train_T, X_train_T = X_train_T[:,::-1], X_train_T[:,::-1]\n",
    "fig2, ax2 = plt.subplots(nrows=2, ncols=5, figsize=(10,6))\n",
    "for i in range(10):\n",
    "    img = X_train_T[Y_train == i][5]\n",
    "    ax2[int(i/5)][i%5].imshow(img, cmap='gray')"
   ]
  },
  {
   "cell_type": "markdown",
   "id": "5da0dc48-9b75-47cd-b47c-91d862581bd5",
   "metadata": {},
   "source": [
    "**Figure 2b. MNIST Handwritten Digits** (Rotated Counter-clockwise for $90^\\circ$)"
   ]
  },
  {
   "cell_type": "markdown",
   "id": "56d2567c-b086-4b22-9e28-e9e316bc543d",
   "metadata": {},
   "source": [
    "This data must be preprocessed to fit a MLP model."
   ]
  },
  {
   "cell_type": "markdown",
   "id": "11dfbc9f-7071-449b-842c-7c1286f2c852",
   "metadata": {},
   "source": [
    "Flattening and Normalizing:"
   ]
  },
  {
   "cell_type": "code",
   "execution_count": 96,
   "id": "df6dfc4a-df6e-4da8-ab9d-cb0c1b6e9d16",
   "metadata": {},
   "outputs": [
    {
     "name": "stdout",
     "output_type": "stream",
     "text": [
      "X_train:  (60000, 784)\n",
      "X_test:  (10000, 784)\n"
     ]
    }
   ],
   "source": [
    "X_train, X_test = np.asarray([X.flatten() for X in X_train]), np.asarray([X.flatten() for X in X_test])\n",
    "X_train, X_test = X_train / 255, X_test / 255\n",
    "print('X_train: ', str(X_train.shape))\n",
    "print('X_test: ', str(X_test.shape))"
   ]
  },
  {
   "cell_type": "markdown",
   "id": "bd372395-66ba-40b0-a81b-4f7a6e856c2d",
   "metadata": {},
   "source": [
    "Using sklearn's One Hot Encoder to turn the labels into one hot numeric arrays:"
   ]
  },
  {
   "cell_type": "code",
   "execution_count": 97,
   "id": "f68bd549-7b79-4026-a067-5f8894f3b493",
   "metadata": {},
   "outputs": [],
   "source": [
    "OneHot = OneHotEncoder(sparse=False, categories='auto')\n",
    "Y_train, Y_test = OneHot.fit_transform(Y_train.reshape(len(Y_train), -1)), OneHot.transform(Y_test.reshape(len(Y_test), -1))"
   ]
  },
  {
   "cell_type": "markdown",
   "id": "a172b425-2b7f-48e5-b0a0-e752ef1aadd1",
   "metadata": {},
   "source": [
    "----\n",
    "## **3. Model and Training**\n",
    "### 3.1 Theory\n",
    "<img src=\"MLP.gif\" width=\"600\" align=\"center\">\n",
    "<b>Figure 3. A Schematic of Forward- and back- propagation with their parameters</b> (<i>Source</i>: <a href=\"https://towardsdatascience.com/lets-code-a-neural-network-in-plain-numpy-ae7e74410795\"> <i>Piotr Skalski</i></a>)"
   ]
  },
  {
   "cell_type": "markdown",
   "id": "0b922ecf-e1ab-4890-a7f1-26c9b7405daf",
   "metadata": {},
   "source": [
    "Let me take the example of linear regression, which we may be more familiar with. We have all encountered linear regression before, when it involves finding the best-fit line through a set of two dimensional data points-$(x,y)$. This is done by choosing the gradient and offset of the line that minimizes the Mean-Squared Error (MSE). MSE here is called the objective function that we are trying to minimize, while gradient and offset of the line are called the model parameters. When you give such a question to a machine, there are a few methods you can ask it to follow: \n",
    ">* **First**, you can tell it to do a grid search, that is, setting a range and step size, and feed the machine all the $(x,y)$ in that grid that you specified, let it calculates the MSE of all the points and output the point that has the least MSE. \n",
    ">* **Second**, you can tell the machine to search methodically instead of going through every point on the grid. The classic method here is the *Gradient Descent*, that is for the machine to follow a path along the least gradient of objective function (path of the greatest descent). \n",
    ">* **Third**, if you can obtain a closed formula for each of the module parameters (in this case you can) that will give the least MSE when inputting all the points $(x,y)$, then you can directly calculate the best-fit line. The parameters you calculated here can be as precise as you want and this is of course more accurate than the previous methods. However, this is far less general a method."
   ]
  },
  {
   "cell_type": "markdown",
   "id": "486fb063-46c1-42ee-9d15-df5fc56de694",
   "metadata": {},
   "source": [
    "Generally, *Stochastic Gradient Descent* is formulated as:\n",
    "\n",
    "$\\begin{equation}\\boldsymbol{\\theta}_{t+1} = \\boldsymbol{\\theta}_t - \\eta_t \\nabla \\mathcal{L}(\\boldsymbol{\\theta}_t,z_t) = \\boldsymbol{\\theta}_t - \\eta_t \\boldsymbol{g}_t\\end{equation}\\tag{Murphy 8.54}$\n",
    "\n",
    "where $\\boldsymbol{\\theta}$ are the model parameters, $\\eta$ is the step size (or learning rate), $\\mathcal{L}(\\boldsymbol{\\theta},z)$ is the objective function and $\\boldsymbol{g}$ is the gradient."
   ]
  },
  {
   "cell_type": "markdown",
   "id": "e1f7e733-473f-4e91-a4ca-718405167aa2",
   "metadata": {},
   "source": [
    "In simple classification problems (e.g. classifying a distribution of point on a grid), we use the perceptron algorithm. The goal is in short to learn the parameters (weight and biases) of one or many linear boundary function. When given a point, it tells whether it belongs to a class from the sign of the output. However, in more complicated scenarios, such as non-linear logistic regression or the XOR problem, a single layer of Perceptrons would not suffice.<br>\n",
    "<img src=\"perceptron.png\" width=\"600\" align=\"center\"><br>\n",
    "**Figure 4. The Perceptron Function** (<i>Source</i>: <a href=\"https://towardsdatascience.com/what-the-hell-is-perceptron-626217814f53\"> <i>SAGAR SHARMA</i></a>)"
   ]
  },
  {
   "cell_type": "markdown",
   "id": "6b778bc9-60b8-4830-8e22-9da782e9fd96",
   "metadata": {},
   "source": [
    "From the diagrams below. it is obvious that we can draw a linear boundary to separate the green and red points in the first distribution, but it is impossible in the second distribution. We need a higher-order boundary, say, a three dimensional surface, in order to classify the points.<br>\n",
    "<img src=\"xor.webp\" width=\"700\" align=\"center\"><br>\n",
    "**Figure 5. The OR and XOR Problems** (<i>Source</i>: <a href=\"https://dev.to/jbahire/demystifying-the-xor-problem-1blk\"> <i>Jayesh Bapu Ahire</i></a>)"
   ]
  },
  {
   "cell_type": "markdown",
   "id": "3dfa1b3e-524c-426d-ae15-83fa73249213",
   "metadata": {},
   "source": [
    "In the other example, to fit a polynomial boundary, we tranditionally use a polynomial transformation of the data. That is, instead of fitting $f(\\boldsymbol{x},\\boldsymbol{\\theta})=\\boldsymbol{W}\\boldsymbol{x} + \\boldsymbol{b}$, where $\\boldsymbol{\\theta}=(\\boldsymbol{W}, \\boldsymbol{b})$, we use $f(\\boldsymbol{x},\\boldsymbol{\\theta})=\\boldsymbol{W}\\phi(\\boldsymbol{x}) + \\boldsymbol{b}$, where $\\phi(x) = \\{1, x, x^2, ...\\}$. A natural extension to such a method is that we can transform our data $\\boldsymbol{x}$ for any number of times, say $L$ times, this gives rise to:\n",
    "\n",
    "$f(\\boldsymbol{x},\\boldsymbol{\\theta})=f_L(f_{L-1}(...(f_1(x))...)) \\tag{Murphy 13.3}$\n",
    "\n",
    "where $f_\\ell(\\boldsymbol{x})=f_\\ell(\\boldsymbol{x},\\boldsymbol{\\theta})$ is the function at layer $\\ell$. This is the key idea behind Deep Neural Networks (DNNs)."
   ]
  },
  {
   "cell_type": "markdown",
   "id": "c29e5e3c-72a7-4f29-adb8-9334da4e33c2",
   "metadata": {},
   "source": [
    "### 3.1.1 MLP Architecture\n",
    "\n",
    "Figures 1 & 3 shows structure and schematic of sample MLPs. A MLP has at least three layers of node, including the input layer, at least one hidden layer and the output layer (see Figure 1). Except for the input nodes, each node is a neuron that uses a nonlinear *activation function*. This is necessary to fit nonlinear functions, since it can be shown by linear algebra (composition of linear transformations is itself a linear transformation) that any number of layers of nodes with linear activation can be reduced to a two-layer input-output module. The passing of input design matrix into a MLP can be written as a set of recurrence realtions between layer outputs and activations, this is known as the forward pass of the MLP:\n",
    "\n",
    "$$\\begin{cases}Z_L = W_L A_{L-1} + b_L\\\\\n",
    " A_L = \\sigma(Z_L)\\end{cases}$$\n",
    "\n",
    "where $Z_L$ is the $L^{th}$ layer output (before activation), $\\sigma$ is the activation function, $A_L$ is the activation at $L^{th}$ layer, and $W_L$, $b_L$ are the model parameters at $L^{th}$ layer."
   ]
  },
  {
   "cell_type": "markdown",
   "id": "6b531926-2494-46c0-891a-806554a74f01",
   "metadata": {},
   "source": [
    "### 3.1.2 Activation function and loss function\n",
    "\n",
    "The most widely used (nonlinear) activation function in the hidden layers is the Rectified Linear Unit (ReLU). It is defined as:\n",
    "\n",
    "$ReLU(a) =\\max(0,a) = a \\mathbb{I} (a>0)\\tag{Murphy 13.12}$\n",
    "\n",
    "where $(a>0)$ gives 1 if true, otherwise 0. The main advantage of using ReLU over the other activation functions (say tanh or sigmoid) is that it does not activate all the neurons at the same time (the neurons will only be deactivated if the output of the linear transformation is less than 0). Since only a certain number of neurons are activated, the ReLU function is far more computationally efficient when compared to the sigmoid and tanh function. \n",
    "\n",
    "The objective (loss) function for a multiclass classification problem is the cross entropy, defined as:\n",
    "\n",
    "$\\mathbb{H}(p,q)\\triangleq - \\sum_{k=1}^{K}p_k \\log q_k\\tag{Murphy 6.7}$\n",
    "\n",
    "and for the cross-entropy layer taking $\\boldsymbol{x}$ as logits and target labels $\\boldsymbol{y}$ as output\n",
    "\n",
    "$z = f(\\boldsymbol{x}) = CrossEntropyWithLogits(\\boldsymbol{y},\\boldsymbol{x})= -\\sum_{c}y_c \\log(\\mathcal{S}(\\boldsymbol{x}_c)) = -\\sum_{c}y_c \\log(p_c)\\tag{Murphy 13.38}$\n",
    "\n",
    "where $\\mathcal{S}$ is the Softmax function, and $p = \\mathcal{S}(\\boldsymbol{x})$ are the predicted class probabilities, and $\\boldsymbol{y}$ is the true distribution ove the labels (often a *one-hot vector*).\n"
   ]
  },
  {
   "cell_type": "markdown",
   "id": "f99198c0-a6bb-4856-bd90-ef0d98643413",
   "metadata": {},
   "source": [
    "## 3.2 The Algorithm\n",
    "<img src=\"algorithm7.png\" width=\"900\" align=\"center\"><br>\n",
    "**Figure 6. The Backprop Algorithm** (*Source: Murphy Section 13.3*)"
   ]
  },
  {
   "cell_type": "markdown",
   "id": "beeacbef-20b1-4980-a72b-9e396aac0078",
   "metadata": {},
   "source": [
    "In a MLP, the goal is to learn weights and biases at each node of each layer of the Neural Network, which best predicts the class of each input. This can be done with SGD. With properly generated initial model parameters ($\\boldsymbol{W}, \\boldsymbol{b}$), as well as properly chosen MLP architecture (number of layer, layer sizes, activation functions), we update the parameters in each iteration of SGD as follows:\n",
    "\n",
    "$$\\boldsymbol{W}_{t+1}  = \\boldsymbol{W}_t - \\eta_t \\boldsymbol{\\delta W}_t$$\n",
    "$$\\boldsymbol{b}_{t+1} = \\boldsymbol{b}_t - \\eta_t \\boldsymbol{\\delta b}_t$$\n",
    "\n",
    "where similar to equation (8.54), $\\eta$ is the learning rate, $\\boldsymbol{\\delta W}$ and $\\boldsymbol{\\delta b}$ are the derivatives of $\\boldsymbol{W}$ and $\\boldsymbol{b}$ respectively."
   ]
  },
  {
   "cell_type": "markdown",
   "id": "6f61e9e6-cc64-40ce-af9c-11dfd8348b00",
   "metadata": {},
   "source": [
    "Next is the mathematically demanding part: we have to find closed formulas of these derivatives, I will show my derivations here:\n",
    "\n",
    ">**Firstly**, the derivative of the output layer (the cross-entropy loss layer, equation 13.38) wrt input $\\boldsymbol{x}$ is:\n",
    "$$\\frac{\\partial z}{\\partial x_i} = \\frac{\\partial}{\\partial x_i}\\log\\sum_j e^{x_j} - \\frac{\\partial}{\\partial x_i}x_c = \\frac{e^{x_i}}{\\sum_j e^{x_j}}-\\frac{\\partial}{\\partial x_i}x_c=p_i-\\mathbb{I}(i=c)$$<br>\n",
    "This implies the Jacobian of $z$ wrt the input is\n",
    "$$\\boldsymbol{J}=\\frac{\\partial z}{\\partial \\boldsymbol{x}} =\\frac{\\partial z}{\\partial \\boldsymbol{Z}_L}=\\delta \\boldsymbol{Z}_L = (A_L-\\boldsymbol{y})^T = (\\boldsymbol{p}-\\boldsymbol{y})^T\\tag{Murphy 13.39}$$\n",
    "where $Z_L$ is the output (before activation), and $A_L$ is the activation at the $L^{th}$ layer. <br><br>\n",
    "Therefore, by chain rule, we have<br>\n",
    "$\\begin{aligned}\\delta \\boldsymbol{W}_L&=\\frac{\\partial z}{\\partial \\boldsymbol{W}_L}\\\\\n",
    "&= \\frac{\\partial z}{\\partial \\boldsymbol{Z}_L} \\frac{\\partial \\boldsymbol{Z}_L}{\\partial \\boldsymbol{W}_L}\\\\\n",
    "&=(A_L-\\boldsymbol{y})^T\\frac{\\partial}{\\partial \\boldsymbol{W}_L}(A_{L-1}W_L + b_L)\\\\\n",
    "&=(A_L-\\boldsymbol{y})^T A_{L-1}\\\\\n",
    "&=\\delta\\boldsymbol{Z}_L A_{L-1}\\end{aligned}$<br>\n",
    "where $W_L$ and $b_L$ are the weight and bias at the $L^{th}$ layer.<br><br>\n",
    "Then, for the bias:<br>\n",
    "$\\begin{aligned}\\delta \\boldsymbol{b}_L&= \\frac{\\partial z}{\\partial A_L} \\frac{\\partial A_L}{\\partial Z_L} \\frac{\\partial Z_L}{\\partial b_L}\\\\\n",
    "&=\\delta \\boldsymbol{Z}_L \\frac{\\partial}{\\partial b_L}(A_{L-1}W_L + b_L)\\\\\n",
    "&=\\delta \\boldsymbol{Z}_L\\end{aligned}$"
   ]
  },
  {
   "cell_type": "markdown",
   "id": "4493db11-8560-4bbf-8522-c72c03bcc3e5",
   "metadata": {},
   "source": [
    "> **Secondly**, the derivative of the output (before activation) of any hidden layer wrt the parameters can be similarly computed by repeated chain rule:<br>\n",
    "$\\begin{aligned} \\delta \\boldsymbol{W}_{L-1}&=\\frac{\\partial z}{\\partial W_{L-1}} \\\\\n",
    "&= \\frac{\\partial z}{\\partial \\boldsymbol{Z}_L} \\frac{\\partial \\boldsymbol{Z}_L}{\\partial \\boldsymbol{A}_{L-1}} \\frac{\\partial \\boldsymbol{A}_{L-1}}{\\partial \\boldsymbol{Z}_{L-1}} \\frac{\\partial \\boldsymbol{Z}_{L-1}}{\\partial \\boldsymbol{W}_{L-1}}\\\\\n",
    "&=(A_L-\\boldsymbol{y})^T \\frac{\\partial }{\\partial A_{L-1}}(A_{L-1}W_L + b_L)\\frac{\\partial }{\\partial Z_{L-1}}(\\sigma(Z_{L-1}))\\frac{\\partial }{\\partial W_{L-1}}(A_{L-2}W_{L-1} + b_{L-1})\\\\\n",
    "&=(A_L-\\boldsymbol{y})^T W_L \\sigma'(Z_{L-1})A_{L-2}\\\\\n",
    "&=\\delta\\boldsymbol{Z}_L A_{L-2}\\end{aligned}$<br><br>\n",
    "$\\begin{aligned} \\delta \\boldsymbol{b}_{L-1}&=\\frac{\\partial z}{\\partial b_{L-1}} \\\\\n",
    "&= \\frac{\\partial z}{\\partial \\boldsymbol{Z}_L} \\frac{\\partial \\boldsymbol{Z}_{L}}{\\partial \\boldsymbol{A}_{L-1}} \\frac{\\partial \\boldsymbol{A}_{L-1}}{\\partial \\boldsymbol{Z}_{L-1}} \\frac{\\partial \\boldsymbol{Z}_{L-1}}{\\partial \\boldsymbol{b}_{L-1}}\\\\\n",
    "&=(A_L-\\boldsymbol{y})^T W_L \\sigma'(Z_{L-1})\\\\\n",
    "&=\\delta\\boldsymbol{Z}_L W_L \\sigma'(Z_{L-1})\\\\\n",
    "&= \\delta\\boldsymbol{Z}_{L-1}\\end{aligned}$<br><br>\n",
    "$\\begin{aligned} \\delta \\boldsymbol{A}_{L-1}&=\\frac{\\partial z}{\\partial A_{L-1}}\\\\\n",
    "&=\\frac{\\partial z}{\\partial \\boldsymbol{Z}_L}  \\frac{\\partial \\boldsymbol{Z}_{L}}{\\partial \\boldsymbol{A}_{L-1}}\\\\\n",
    "&=\\delta \\boldsymbol{Z}_L W_L\\end{aligned}$\n"
   ]
  },
  {
   "cell_type": "markdown",
   "id": "0d881ea0-b5e4-4754-b689-b0a2a2f0070e",
   "metadata": {},
   "source": [
    "In summary, we have the following recurrence relations for the derivatives of model parameters ($\\boldsymbol{W}, \\boldsymbol{b}$):\n",
    "\n",
    "\n",
    "For output layer, $\\begin{cases} \\delta \\boldsymbol{Z}_L = (A_L-\\boldsymbol{y})^T\\\\\n",
    "\\delta \\boldsymbol{A}_{L-1} = \\delta \\boldsymbol{Z}_L \\boldsymbol{W}_L \\\\\n",
    "\\delta \\boldsymbol{W}_L = \\delta \\boldsymbol{Z}_L \\boldsymbol{A}_{L-1}\\\\\n",
    "\\delta \\boldsymbol{b}_L = \\delta \\boldsymbol{Z}_L\\end{cases}$.\n",
    "For hidden layers, $\\begin{cases} \\delta \\boldsymbol{Z}_L = \\delta \\boldsymbol{A}_{L} \\sigma'(\\boldsymbol{Z}_L)\\\\\n",
    "\\delta \\boldsymbol{A}_{L-1} = \\delta \\boldsymbol{Z}_L \\boldsymbol{W}_L \\\\\n",
    "\\delta \\boldsymbol{W}_L = \\delta \\boldsymbol{Z}_L \\boldsymbol{A}_{L-1}\\\\\n",
    "\\delta \\boldsymbol{b}_L = \\delta \\boldsymbol{Z}_L\\end{cases}$. "
   ]
  },
  {
   "cell_type": "markdown",
   "id": "795f4597-6f91-4f19-9603-c058b40022eb",
   "metadata": {},
   "source": [
    "## 3.3 Implementation of the MLP Class"
   ]
  },
  {
   "cell_type": "markdown",
   "id": "7b956c28-3b37-42ec-bf1e-5e1b2b703b4a",
   "metadata": {},
   "source": [
    "Now, we can write our MLP class with the SGD as its optimizer."
   ]
  },
  {
   "cell_type": "code",
   "execution_count": 78,
   "id": "a6ca0c07-2e3f-44cb-a6c2-fb25e52e6437",
   "metadata": {},
   "outputs": [],
   "source": [
    "import numpy as np\n",
    "import matplotlib.pyplot as plt\n",
    "from functions import *\n",
    "\n",
    "class MLP:\n",
    "    \n",
    "    def __init__(self, sizes, activation='relu'):\n",
    "        \n",
    "        '''\n",
    "\n",
    "        Initialize the MLP by specifying the structure of the Neural Network, \n",
    "        and activition function.\n",
    "\n",
    "        Parameter:\n",
    "        -------------------------------------\n",
    "        sizes: non-empty array of int\n",
    "            array of number of feature of each layer, with index 0 being the\n",
    "            first hidden layer if length of array > 1, and index -1 being the \n",
    "            length of the output layer (number of classes).\n",
    "\n",
    "        activation: str\n",
    "           The MLP's activation function for the hidden layers.\n",
    "           It has four choices: 'relu', 'sigmoid', 'tanh' and 'linear'.\n",
    "           By default, uses ReLU.\n",
    "\n",
    "        '''\n",
    "\n",
    "        self.sizes = sizes\n",
    "\n",
    "        if activation == 'relu': # by default, use the ReLU activation for the hidden layers\n",
    "            self.activation_func = relu\n",
    "            self.activation_d = relu_derivative\n",
    "            \n",
    "        elif activation == 'sigmoid':\n",
    "            self.activation_func = sigmoid\n",
    "            self.activation_d = sigmoid_derivative\n",
    "        \n",
    "        elif activition == 'tanh':\n",
    "            self.activation_func = lambda x: np.tanh(x)\n",
    "            self.activation_d = tanh_derivative\n",
    "            \n",
    "        else: #else use linear activation\n",
    "            self.activation_func = lambda x: x\n",
    "            self.activation_d = lambda x: (x==0 or x != 0) * 1\n",
    "            \n",
    "        self.param = {} #dictionary of weights and biases of each layer (to be initialized with init_param)\n",
    "\n",
    "        self.L = len(self.sizes) #total number of layers (input, output and hidden layers) of MLP\n",
    "        \n",
    "        self.acc = [] #array of history of accuracys\n",
    "\n",
    "        self.loss = [] #array of history of losses\n",
    "    \n",
    "    def init_param(self):\n",
    "        \n",
    "        '''\n",
    "\n",
    "        Initialize random weights and biases for the MLP with Glorot (Xavier) Initialization. \n",
    "        Random initialization is used since if we had set all the weights to the say the same value \n",
    "        then each node and layer will be the same. We have to 'break the symmetry' to avoid this.\n",
    "        \n",
    "        The goal of Xavier Initialization is to initialize the weights such that the variance of \n",
    "        the activations are the same across every layer. This constant variance helps prevent the gradient \n",
    "        from exploding or vanishing.\n",
    "        '''\n",
    "        for i in range(1, len(self.sizes)):\n",
    "            std = np.sqrt(2/(self.sizes[i] + self.sizes[i-1]))\n",
    "            self.param['W' + str(i)] = np.float32(np.random.uniform(-std, std, (self.sizes[i], self.sizes[i-1])))\n",
    "            self.param['b' + str(i)] = np.float32(np.random.uniform(-std, std, (self.sizes[i], 1)))\n",
    "            \n",
    "            \n",
    "            \n",
    "        #for i in range(1, len(self.sizes)):\n",
    "            #self.param['W' + str(i)] = np.random.randn(self.sizes[i], self.sizes[i-1]) \n",
    "            #self.param['b' + str(i)] = np.random.randn(self.sizes[i], 1) \n",
    "\n",
    "    def forward_pass(self, X):\n",
    "        \n",
    "        '''\n",
    "\n",
    "        Performs the forward pass of the MLP. This is almost identical to what we have\n",
    "        done in the laboratory, except that it also has to store a history of weights, outputs\n",
    "        and activitions used in each layer. This is for the calculation of derivatives in backprop.\n",
    "\n",
    "        Parameter:\n",
    "        -------------------------------------\n",
    "        X: array of array\n",
    "            The input data for the purpose to train the MLP\n",
    "            \n",
    "        Return:\n",
    "        -------------------------------------\n",
    "        A, history: tuple of an array and a dictionary\n",
    "            A is the output from the MLP, history is the dictionary with the output,\n",
    "            activation and weight from each hidden layer and output layer of MLP.\n",
    "\n",
    "        '''\n",
    "            \n",
    "        history = {}\n",
    "\n",
    "        A = X.T\n",
    "        \n",
    "        #forward pass of hidden layers\n",
    "        for l in range(self.L - 1):\n",
    "            \n",
    "            #output of layer l+1 (before activation)\n",
    "            Z = self.param[\"W\" + str(l + 1)].dot(A) + self.param[\"b\" + str(l + 1)]\n",
    "            \n",
    "            #activation of layer l+1\n",
    "            A = relu(Z)\n",
    "            \n",
    "            #storing A,W and Z into history\n",
    "            history[\"A\"+str(l+1)] = A\n",
    "            history[\"W\"+str(l+1)] = self.param[\"W\" + str(l + 1)]\n",
    "            history[\"Z\"+str(l+1)] = Z\n",
    "    \n",
    "        #forward pass of last layer\n",
    "        Z = self.param[\"W\" + str(self.L)].dot(A) + self.param[\"b\"+str(self.L)]\n",
    "\n",
    "        A = soft_max(Z)\n",
    "\n",
    "        history[\"A\"+str(self.L)] = A\n",
    "        history[\"W\"+str(self.L)] = self.param[\"W\"+str(self.L)]\n",
    "        history[\"Z\"+str(self.L)] = Z\n",
    "        \n",
    "        return A, history\n",
    "\n",
    "    def backprop(self, X_train, Y_train, history):\n",
    "        \n",
    "        '''\n",
    "\n",
    "        Performs the backprop of the MLP, calculating derivatives\n",
    "        at all the layers with the recurrence relations\n",
    "        that we have derived.\n",
    "\n",
    "        Parameter:\n",
    "        -------------------------------------\n",
    "        X_train: array of array\n",
    "            The input data for the purpose to train the MLP\n",
    "            \n",
    "        Y_train: array\n",
    "            The truth labels of the input data\n",
    "        \n",
    "        history: dictionary\n",
    "            History of parameters calculated previously in the forward pass\n",
    "        \n",
    "            \n",
    "        Return:\n",
    "        -------------------------------------\n",
    "        history_d: dictionary\n",
    "            The history of derivatives calculated in the processs of backprop\n",
    "\n",
    "        '''\n",
    "\n",
    "        history_d = {}\n",
    "        n_meas = X_train.shape[0]\n",
    "        history[\"A0\"] = X_train.T\n",
    "        A = history[\"A\" + str(self.L)]\n",
    "        \n",
    "        #backprop of the output layer (first set of recurrence relations)\n",
    "        del_Z = A - Y_train.T\n",
    "        del_W = del_Z.dot(history[\"A\" + str(self.L- 1)].T) / n_meas\n",
    "        del_b = np.sum(del_Z, axis=1, keepdims=True) / n_meas\n",
    "        del_A_L_minus1 = history[\"W\" + str(self.L)].T.dot(del_Z)\n",
    "\n",
    "        history_d[\"del_W\"+ str(self.L)] = del_W\n",
    "        history_d[\"del_b\"+ str(self.L)] = del_b\n",
    "         \n",
    "        #backprop of the hidden layers (second set of recurrence relations)\n",
    "        for l in range(self.L-1, 0, -1):\n",
    "            del_Z = del_A_L_minus1 * self.activation_d(history[\"Z\" + str(l)])\n",
    "            del_W = del_Z.dot(history[\"A\" + str(l - 1)].T)  / n_meas\n",
    "            del_b = np.sum(del_Z, axis=1, keepdims=True)  / n_meas\n",
    "            if l > 1:\n",
    "                del_A_L_minus1 = history[\"W\" + str(l)].T.dot(del_Z)\n",
    "\n",
    "            history_d[\"del_W\"+ str(l)] = del_W\n",
    "            history_d[\"del_b\"+ str(l)] = del_b\n",
    "\n",
    "        return history_d\n",
    "\n",
    "    \n",
    "    def fit(self, X_train, Y_train, eta=0.03, n_iter=1000, record_interval = 5, verbose = True, verbose_interval = 100):\n",
    "        \n",
    "        '''\n",
    "\n",
    "        Performs the backprop of the MLP, using SGD and with the recurrence relations\n",
    "        that we have derived.\n",
    "\n",
    "        Parameter:\n",
    "        -------------------------------------\n",
    "        X_train: array of array\n",
    "            The input data for the purpose to train the MLP\n",
    "            \n",
    "        Y_train: array\n",
    "            The truth labels of the input data\n",
    "        \n",
    "        eta: float, default = 0.03\n",
    "            learning rate of the model (step size of SGD)\n",
    "            \n",
    "        n_iter: int, default = 1000\n",
    "            number of iterations of algorithm 7 and SGD updates. This is in\n",
    "            other words the number of epoches until the learning stops.\n",
    "            \n",
    "        record_interval: int, default = 5\n",
    "            interval between each recording of current model loss & accuracy\n",
    "        \n",
    "        verbose: boolean, default = True\n",
    "            whether or not to periodically output current loss as text\n",
    "        \n",
    "        verbose_interval: int, default = 100\n",
    "            interval between each text message\n",
    "\n",
    "        '''\n",
    "        np.random.seed(3270)\n",
    "        \n",
    "        #insert the size of the input layer\n",
    "        self.sizes.insert(0, X_train.shape[1])\n",
    "        \n",
    "        self.init_param()\n",
    "        \n",
    "        \n",
    "        for i in range(n_iter):\n",
    "            \n",
    "            #algorithm 7\n",
    "            A, history = self.forward_pass(X_train) \n",
    "            history_d = self.backprop(X_train, Y_train, history)\n",
    "            \n",
    "            loss = -np.mean(Y_train * np.log(A.T+1e-10)) #add a small number to avoid Division by Zero error\n",
    "            \n",
    "            #SGD\n",
    "            for l in range(1, self.L + 1):\n",
    "                self.param[\"W\"+str(l)] = self.param[\"W\"+str(l)] - eta * history_d[\"del_W\"+str(l)]\n",
    "                self.param[\"b\"+str(l)] = self.param[\"b\"+str(l)] - eta * history_d[\"del_b\"+str(l)]\n",
    "        \n",
    "            #record accuracy and loss in the class attribute\n",
    "            if not i % record_interval:\n",
    "                self.acc.append(self.predict(X_train, Y_train))\n",
    "                self.loss.append(loss)\n",
    "\n",
    "            if verbose == True:\n",
    "                if not (i+1) % verbose_interval:\n",
    "                    print(\"Iteration:\", i, \"Model Loss: \", loss, \"Train Accuracy:\", self.predict(X_train, Y_train))\n",
    "\n",
    "    \n",
    "    \n",
    "    def predict_label(self, X_test):\n",
    "        '''\n",
    "\n",
    "        Makes class prediction using the trained model. \n",
    "\n",
    "        Parameter:\n",
    "        -------------------------------------\n",
    "        X_test: array of array\n",
    "            The input data for the purpose to train the MLP\n",
    "            \n",
    "        Return:\n",
    "        -------------------------------------\n",
    "        labels: array\n",
    "            Predicted labels of the input data\n",
    "        '''\n",
    "        A, history = self.forward_pass(X_test)\n",
    "        \n",
    "        predicted_labels = np.argmax(A, axis=0)\n",
    "        \n",
    "        return predicted_labels\n",
    "    \n",
    "    def predict(self, X_test, Y_test):\n",
    "        '''\n",
    "\n",
    "        Gives accuracy of class prediction using the trained model. \n",
    "\n",
    "        Parameter:\n",
    "        -------------------------------------\n",
    "        X_test: array of array\n",
    "            The input data for the purpose to train the MLP\n",
    "            \n",
    "        Y_test: array\n",
    "            The truth labels of the input data\n",
    "\n",
    "        Return:\n",
    "        -------------------------------------\n",
    "        acc: float between 0 and 1\n",
    "            The accuracy of the model in predicting class labels of input data\n",
    "        '''\n",
    "        A, history = self.forward_pass(X_test)\n",
    "        \n",
    "        predicted_labels = np.argmax(A, axis=0)\n",
    "        truth_labels = np.argmax(Y_test, axis=1)\n",
    "        \n",
    "        acc = (predicted_labels == truth_labels).mean()\n",
    "        \n",
    "        return acc\n",
    "\n",
    "    \n",
    "\n",
    "    def plot_acc_and_loss(self, record_interval = 5):\n",
    "        '''\n",
    "        Plots the model's loss against number of iterations.\n",
    "        \n",
    "        Parameter:\n",
    "        -------------------------------------\n",
    "        record_interval: int, default = 5\n",
    "            interval between each recording of current model loss & accuracy\n",
    "        '''\n",
    "        fig, axes = plt.subplots(2,1, figsize=(6,6), sharex=True)\n",
    "        axes[0].set_ylim(0,1)\n",
    "        axes[0].plot(record_interval*np.arange(len(self.acc)), self.acc)\n",
    "        axes[0].set_ylabel('training accuracy')\n",
    "        axes[1].plot([0]+record_interval*np.arange(len(self.loss)), self.loss)\n",
    "        axes[1].set_ylabel('training loss')\n",
    "        axes[1].set_xlabel('epoch')\n",
    "        plt.subplots_adjust(hspace=0.)"
   ]
  },
  {
   "cell_type": "markdown",
   "id": "9bf984ce-4177-4179-be00-ccb4a6aaed71",
   "metadata": {
    "jp-MarkdownHeadingCollapsed": true,
    "tags": []
   },
   "source": [
    "<br>\n",
    "<br>\n",
    "Now we can fit the model with the preprocessed data and their labels."
   ]
  },
  {
   "cell_type": "code",
   "execution_count": 127,
   "id": "9f67754c-c15f-4eef-bc79-fe77eda75c6f",
   "metadata": {},
   "outputs": [
    {
     "name": "stdout",
     "output_type": "stream",
     "text": [
      "Iteration: 99 Model Loss:  0.05416547749898185 Train Accuracy: 0.86795\n",
      "Iteration: 199 Model Loss:  0.04005581835215578 Train Accuracy: 0.8912166666666667\n",
      "Iteration: 299 Model Loss:  0.03531927188666935 Train Accuracy: 0.9014666666666666\n",
      "Iteration: 399 Model Loss:  0.03264957866516157 Train Accuracy: 0.9075166666666666\n",
      "Iteration: 499 Model Loss:  0.030758853326013316 Train Accuracy: 0.91295\n",
      "Iteration: 599 Model Loss:  0.029260345619163273 Train Accuracy: 0.9170166666666667\n",
      "Iteration: 699 Model Loss:  0.02799105402721223 Train Accuracy: 0.9208666666666666\n",
      "Iteration: 799 Model Loss:  0.026872811755190438 Train Accuracy: 0.9244\n",
      "Iteration: 899 Model Loss:  0.02585809562785851 Train Accuracy: 0.9273166666666667\n",
      "Iteration: 999 Model Loss:  0.024923796555287387 Train Accuracy: 0.9300666666666667\n",
      "Train Accuracy: 0.9300666666666667\n",
      "Test Accuracy: 0.9309\n",
      "Time taken:  0:04:17.269376\n"
     ]
    }
   ],
   "source": [
    "from datetime import datetime\n",
    "start=datetime.now()\n",
    "\n",
    "MNIST_MLP = MLP([100,10], activation = 'relu')\n",
    "MNIST_MLP.fit(X_train, Y_train, eta = 0.1)\n",
    "print(\"Train Accuracy:\", MNIST_MLP.predict(X_train, Y_train))\n",
    "print(\"Test Accuracy:\", MNIST_MLP.predict(X_test, Y_test))\n",
    "\n",
    "print('Time taken: ', datetime.now()-start)"
   ]
  },
  {
   "cell_type": "markdown",
   "id": "70b0dbdd-5dbb-4b31-9280-2f9c157b4e4e",
   "metadata": {},
   "source": [
    "We see that the train accuracy and test accuracy using my implementation are **0.9301** and **0.9309** respectively."
   ]
  },
  {
   "cell_type": "code",
   "execution_count": 124,
   "id": "d4ebd25e-35cb-4eb6-a47c-347646b0257d",
   "metadata": {},
   "outputs": [
    {
     "data": {
      "image/png": "[encoded data removed]",
      "text/plain": [
       "<Figure size 432x432 with 2 Axes>"
      ]
     },
     "metadata": {
      "needs_background": "light"
     },
     "output_type": "display_data"
    }
   ],
   "source": [
    "MNIST_MLP.plot_acc_and_loss()"
   ]
  },
  {
   "cell_type": "markdown",
   "id": "dcba712a-da3e-49b6-8413-a8fcfdf70cde",
   "metadata": {},
   "source": [
    "**Figure 7. Accuracy and Loss Against Epoch of My MLP Implementation**"
   ]
  },
  {
   "cell_type": "markdown",
   "id": "4aee056d-b22b-493a-bc20-bbaba50edcae",
   "metadata": {},
   "source": [
    "----\n",
    "## **4. Model Validation**"
   ]
  },
  {
   "cell_type": "code",
   "execution_count": 32,
   "id": "59c5b614-fc8f-4bb2-94f3-1480b6744898",
   "metadata": {},
   "outputs": [
    {
     "name": "stdout",
     "output_type": "stream",
     "text": [
      "Iteration: 99 Model Loss:  0.06288214327519671 Train Accuracy: 0.8427\n",
      "Iteration: 199 Model Loss:  0.03941279500994669 Train Accuracy: 0.8903833333333333\n",
      "Iteration: 299 Model Loss:  0.03349709105847598 Train Accuracy: 0.9051666666666667\n",
      "Iteration: 399 Model Loss:  0.03020446095853272 Train Accuracy: 0.9142833333333333\n",
      "Iteration: 499 Model Loss:  0.0278015512179387 Train Accuracy: 0.92045\n",
      "Iteration: 599 Model Loss:  0.025858933241847033 Train Accuracy: 0.9257666666666666\n",
      "Iteration: 699 Model Loss:  0.02419119587900016 Train Accuracy: 0.9309833333333334\n",
      "Iteration: 799 Model Loss:  0.02269318816720813 Train Accuracy: 0.9354333333333333\n",
      "Iteration: 899 Model Loss:  0.021334837639109257 Train Accuracy: 0.93925\n",
      "Iteration: 999 Model Loss:  0.02010240839944917 Train Accuracy: 0.94295\n",
      "Train Accuracy: 0.94295\n",
      "Test Accuracy: 0.9419\n",
      "Time taken:  0:06:18.072265\n"
     ]
    }
   ],
   "source": [
    "from datetime import datetime\n",
    "start=datetime.now()\n",
    "#With two hidden layers of 100 neurons\n",
    "MNIST_MLP = MLP([100,100,10], activation = 'relu')\n",
    "MNIST_MLP.fit(X_train, Y_train, eta = 0.1)\n",
    "print(\"Train Accuracy:\", MNIST_MLP.predict(X_train, Y_train))\n",
    "print(\"Test Accuracy:\", MNIST_MLP.predict(X_test, Y_test))\n",
    "\n",
    "print('Time taken: ', datetime.now()-start)"
   ]
  },
  {
   "cell_type": "markdown",
   "id": "8e48b06d-73e4-4be3-a541-97c60bb7a387",
   "metadata": {},
   "source": [
    "Besides a 3-layer MLP with a hidden layer of 100 neuron, different architectures of the MLP were explored to increase the test accuracy but not into much detail. This is because the main point of this project is to build a fully-functioning MLP, especial to derive the backprop with SGD from scratch.  An architecture of shape **784x50x10** gives slightly lowerer accuracies (about **0.89** to **0.90**). An architecture of shape **784x100x100x10** gives slightly higher accuracies (**0.9430** and **0.9419**) at the cost of slower training time. Smaller layer sizes were also experimented. At layer sizes of about 20, independent of the number of layers, the test accuracy seems to converge at about 0.11 to 0.12. This is because the number of neuron is incapable of capaturing the vastity of input features (784 is much larger than 20). Different values of eta (learning rate) were also experimented, eta at about **0.03** to **0.05** gave accuracy of about 0.90. Overall, I think a 3-layer architecture of **784x100x10** is the most appropriate for the following evaluations."
   ]
  },
  {
   "cell_type": "markdown",
   "id": "6d66a855-aba6-4178-b27b-38b6f27cc5ee",
   "metadata": {},
   "source": [
    "We compare our result with a MLP built with TensorFlow."
   ]
  },
  {
   "cell_type": "markdown",
   "id": "84818fd0-d59c-43ee-b08d-1e662edf5290",
   "metadata": {},
   "source": [
    "We build with the same MLP architecture (of shape **784x100x10**) with TensorFlow. We try to keep the initialization of weights and biases the same as previous."
   ]
  },
  {
   "cell_type": "code",
   "execution_count": 10,
   "id": "36299d8e-e35a-408e-b9ea-8221fcd44ef9",
   "metadata": {},
   "outputs": [],
   "source": [
    "n_classes = Y_train.shape[1]\n",
    "n_features = X_train.shape[1]"
   ]
  },
  {
   "cell_type": "code",
   "execution_count": 45,
   "id": "ee10f476-8438-460d-bc96-360ed21ed9b8",
   "metadata": {},
   "outputs": [
    {
     "name": "stdout",
     "output_type": "stream",
     "text": [
      "Model: \"sequential_12\"\n",
      "_________________________________________________________________\n",
      " Layer (type)                Output Shape              Param #   \n",
      "=================================================================\n",
      " dense_24 (Dense)            (None, 100)               78500     \n",
      "                                                                 \n",
      " dense_25 (Dense)            (None, 10)                1010      \n",
      "                                                                 \n",
      "=================================================================\n",
      "Total params: 79,510\n",
      "Trainable params: 79,510\n",
      "Non-trainable params: 0\n",
      "_________________________________________________________________\n"
     ]
    }
   ],
   "source": [
    "import tensorflow as tf\n",
    "tf_MLP = tf.keras.models.Sequential([\n",
    "  tf.keras.layers.InputLayer(input_shape=X_train[0].shape), \n",
    "    #although I can choose the same seed number, it wouldn't be in the same random state as when I called `np.random.seed(3270)`\n",
    "    #when creating the MLP instance\n",
    "  tf.keras.layers.Dense(100, activation='relu',kernel_initializer=tf.keras.initializers.RandomNormal(mean=0., stddev=0.01, seed=3270),\n",
    "                        bias_initializer=tf.keras.initializers.RandomNormal(mean=0., stddev=0.01, seed=3270)),  \n",
    "  tf.keras.layers.Dense(n_classes, activation='softmax'),         \n",
    "])\n",
    "tf_MLP.summary()"
   ]
  },
  {
   "cell_type": "code",
   "execution_count": 63,
   "id": "7fbe77c3-158f-4f9a-ab7c-3ca8a5d422e0",
   "metadata": {},
   "outputs": [],
   "source": [
    "tf_MLP.compile(optimizer=tf.keras.optimizers.SGD(learning_rate=0.1),\n",
    "              loss=\"categorical_crossentropy\",\n",
    "              metrics=['accuracy'])"
   ]
  },
  {
   "cell_type": "code",
   "execution_count": 64,
   "id": "cd8e48dd-680b-4074-a476-61e9287044fc",
   "metadata": {},
   "outputs": [
    {
     "name": "stdout",
     "output_type": "stream",
     "text": [
      "Time taken:  2:07:44.338532\n"
     ]
    },
    {
     "data": {
      "image/png": "[encoded data removed]",
      "text/plain": [
       "<Figure size 432x432 with 2 Axes>"
      ]
     },
     "metadata": {
      "needs_background": "light"
     },
     "output_type": "display_data"
    }
   ],
   "source": [
    "from datetime import datetime\n",
    "start=datetime.now()\n",
    "\n",
    "training_history = tf_MLP.fit(X_train, Y_train, epochs=1000, verbose=0)\n",
    "fig, axes = plt.subplots(2,1, figsize=(6,6), sharex=True)\n",
    "axes[0].plot(training_history.history['accuracy'])\n",
    "axes[0].set_ylabel('training accuracy')\n",
    "axes[1].plot(training_history.history['loss'])\n",
    "axes[1].set_ylabel('training loss')\n",
    "axes[1].set_xlabel('epoch')\n",
    "plt.subplots_adjust(hspace=0.)\n",
    "\n",
    "print('Time taken: ', datetime.now()-start)"
   ]
  },
  {
   "cell_type": "markdown",
   "id": "e0cd9899-0509-40d5-ba22-9a0069ca965d",
   "metadata": {},
   "source": [
    "**Figure 8. Accuracy and Loss Against Epoch of tf_MLP (batch_size=32)**"
   ]
  },
  {
   "cell_type": "markdown",
   "id": "ab9155ee-bcda-4259-8277-68344daf7dcd",
   "metadata": {},
   "source": [
    "We see that with a small batch size (by default this is **32** for `tf.keras.model.fit`), model accuracy and loss are fast converging to the ideal values (1 and 0 respectively).\n",
    "However, the training is extremely slow."
   ]
  },
  {
   "cell_type": "markdown",
   "id": "b444fe5a-d6af-4118-b819-653a117dbd8f",
   "metadata": {},
   "source": [
    "Next we change the batch_size to **60,000** (same as `MNIST_MLP`)."
   ]
  },
  {
   "cell_type": "code",
   "execution_count": 12,
   "id": "9101d55c-9058-4656-91cd-3871286a98a9",
   "metadata": {},
   "outputs": [],
   "source": [
    "tf_MLP2 = tf.keras.models.Sequential([\n",
    "  tf.keras.layers.InputLayer(input_shape=X_train[0].shape), \n",
    "    #although I can choose the same seed number, it wouldn't be in the same random state as when I called `np.random.seed(3270)`\n",
    "    #when creating the MLP instance\n",
    "  tf.keras.layers.Dense(100, activation='relu',kernel_initializer=tf.keras.initializers.GlorotUniform,\n",
    "                        bias_initializer=tf.keras.initializers.GlorotUniform),  #same initialization as MLP\n",
    "  tf.keras.layers.Dense(n_classes, activation='softmax'),         \n",
    "])\n",
    "tf_MLP2.compile(optimizer=tf.keras.optimizers.SGD(learning_rate=0.1),\n",
    "              loss=\"categorical_crossentropy\",\n",
    "              metrics=['accuracy'])"
   ]
  },
  {
   "cell_type": "code",
   "execution_count": 13,
   "id": "79d6cf3b-6949-4b93-9bf1-075ba0727bef",
   "metadata": {},
   "outputs": [
    {
     "name": "stdout",
     "output_type": "stream",
     "text": [
      "Time taken:  0:01:17.171843\n"
     ]
    },
    {
     "data": {
      "image/png": "[encoded data removed]",
      "text/plain": [
       "<Figure size 432x432 with 2 Axes>"
      ]
     },
     "metadata": {
      "needs_background": "light"
     },
     "output_type": "display_data"
    }
   ],
   "source": [
    "from datetime import datetime\n",
    "start=datetime.now()\n",
    "\n",
    "#This time we set the model to train on the whole X_train each batch\n",
    "training_history2 = tf_MLP2.fit(X_train, Y_train, batch_size = len(X_train), epochs=1000, verbose=0)\n",
    "fig, axes = plt.subplots(2,1, figsize=(6,6), sharex=True)\n",
    "axes[0].plot(training_history2.history['accuracy'])\n",
    "axes[0].set_ylabel('training accuracy')\n",
    "axes[1].plot(training_history2.history['loss'])\n",
    "axes[1].set_ylabel('training loss')\n",
    "axes[1].set_xlabel('epoch')\n",
    "plt.subplots_adjust(hspace=0.)\n",
    "\n",
    "print('Time taken: ', datetime.now()-start)"
   ]
  },
  {
   "cell_type": "markdown",
   "id": "1263aab4-f430-4e3f-83b7-61696f5fc0cb",
   "metadata": {},
   "source": [
    "**Figure 9. Accuracy and Loss Against Epoch of tf_MLP2 (batch_size=60,000)**"
   ]
  },
  {
   "cell_type": "code",
   "execution_count": 14,
   "id": "0cdd0fa0-cc0e-4efd-8043-951e683beb25",
   "metadata": {},
   "outputs": [
    {
     "data": {
      "text/plain": [
       "0.9379166960716248"
      ]
     },
     "execution_count": 14,
     "metadata": {},
     "output_type": "execute_result"
    }
   ],
   "source": [
    "training_history2.history['accuracy'][-1]"
   ]
  },
  {
   "cell_type": "code",
   "execution_count": 15,
   "id": "23d90c35-6e4b-4082-87e5-9f79e6e05140",
   "metadata": {},
   "outputs": [
    {
     "name": "stdout",
     "output_type": "stream",
     "text": [
      "313/313 [==============================] - 0s 406us/step - loss: 0.2195 - accuracy: 0.9366\n"
     ]
    },
    {
     "data": {
      "text/plain": [
       "[0.21954025328159332, 0.9366000294685364]"
      ]
     },
     "execution_count": 15,
     "metadata": {},
     "output_type": "execute_result"
    }
   ],
   "source": [
    "tf_MLP2.evaluate(X_test,  Y_test)"
   ]
  },
  {
   "cell_type": "markdown",
   "id": "badd7c37-3d48-4528-ae61-42ef58b7f193",
   "metadata": {},
   "source": [
    "<br>We see that the train accuracy and test accuracy of the TensorFlow Model are **0.9379** and **0.9366** respectively. These are slightly higher than our implementation of MLP. **This can be due to different initial states or a different implementation of SGD or initializer.**\n",
    "In addition, the TensorFlow model is much faster than mine with the same batch size (**1 min 17 sec** versus **4 min 17 sec**). This is mostly due to TensorFlow's implementation is superior to mine.<br>"
   ]
  },
  {
   "cell_type": "markdown",
   "id": "58edd2a3-47a1-4377-b93e-7e9a6560861b",
   "metadata": {},
   "source": [
    "<br>Next, we perform a **K-fold Cross Validation** of `MNIST_MLP`."
   ]
  },
  {
   "cell_type": "code",
   "execution_count": 17,
   "id": "89c27f14-ca60-468f-9089-a65fe20dd175",
   "metadata": {},
   "outputs": [],
   "source": [
    "from sklearn.model_selection import train_test_split, cross_validate, KFold"
   ]
  },
  {
   "cell_type": "code",
   "execution_count": 18,
   "id": "8a4f8fa6-e73e-46b3-ba22-deeee36a25b5",
   "metadata": {},
   "outputs": [],
   "source": [
    "X, Y = np.concatenate( (X_train,X_test)), np.concatenate( (Y_train,Y_test))"
   ]
  },
  {
   "cell_type": "code",
   "execution_count": 31,
   "id": "883aa07d-1e55-4e47-a93c-c3d199aa3825",
   "metadata": {},
   "outputs": [
    {
     "name": "stdout",
     "output_type": "stream",
     "text": [
      "Test accuracy 0.9361.\n",
      "Test accuracy 0.9211.\n",
      "Test accuracy 0.9250.\n",
      "Test accuracy 0.9286.\n",
      "Test accuracy 0.9204.\n",
      "Test accuracy 0.9247.\n",
      "Test accuracy 0.9217.\n",
      "Test accuracy 0.9231.\n",
      "Test accuracy 0.9303.\n",
      "Test accuracy 0.9396.\n",
      "Time taken:  0:42:52.906053\n"
     ]
    }
   ],
   "source": [
    "from datetime import datetime\n",
    "start=datetime.now()\n",
    "\n",
    "kf = KFold(n_splits=10)\n",
    "train_scores, test_scores = [], []\n",
    "for train_indices, test_indices in kf.split(X):\n",
    "    KFOLD_MLP = MLP([100,10], activation = 'relu')\n",
    "    KFOLD_MLP.fit(X[train_indices], Y[train_indices], verbose = False,eta = 0.1)\n",
    "    train_scores.append(KFOLD_MLP.predict(X[train_indices], Y[train_indices]))\n",
    "    test_scores.append(KFOLD_MLP.predict(X[test_indices], Y[test_indices]))\n",
    "    print(f'Test accuracy {test_scores[-1]:0.4f}.')\n",
    "    \n",
    "print('Time taken: ', datetime.now()-start)"
   ]
  },
  {
   "cell_type": "code",
   "execution_count": 48,
   "id": "f2c359e8-f20f-457b-8cac-33797a01a67f",
   "metadata": {},
   "outputs": [
    {
     "name": "stdout",
     "output_type": "stream",
     "text": [
      "0.0005176769436525101 0.006199818957198751\n",
      "0.9306111111111111 0.9270714285714285\n"
     ]
    }
   ],
   "source": [
    "print(np.std(train_scores), np.std(test_scores))\n",
    "print(np.mean(train_scores), np.mean(test_scores))"
   ]
  },
  {
   "cell_type": "markdown",
   "id": "32cfbaa8-9b4b-419b-9811-a7b5462b59de",
   "metadata": {},
   "source": [
    "We see that the mean of train and test accuracies of 10-fold training are **0.9306** and **0.9271**, with low standard deviations **5e-4** and **6e-3**."
   ]
  },
  {
   "cell_type": "code",
   "execution_count": 49,
   "id": "7534c7f0-e51b-41e2-abfb-68bd9a11afe0",
   "metadata": {},
   "outputs": [
    {
     "data": {
      "text/plain": [
       "(0.92, 0.94)"
      ]
     },
     "execution_count": 49,
     "metadata": {},
     "output_type": "execute_result"
    },
    {
     "data": {
      "image/png": "[encoded data removed]",
      "text/plain": [
       "<Figure size 432x288 with 1 Axes>"
      ]
     },
     "metadata": {
      "needs_background": "light"
     },
     "output_type": "display_data"
    }
   ],
   "source": [
    "plt.plot(test_scores, train_scores, 'rx', label='test vs train')\n",
    "plt.xlabel('test_accuracy')\n",
    "plt.ylabel('train_accuracy')\n",
    "plt.title('100 neurons in a hidden layer')\n",
    "x = np.linspace(0,1,100)\n",
    "plt.plot(x, x, 'k-', label='if test = train')\n",
    "plt.legend()\n",
    "plt.ylim([.92,.94])\n",
    "plt.xlim([.92,.94])"
   ]
  },
  {
   "cell_type": "markdown",
   "id": "40c2f6ac-03f9-4f14-a08e-f18ab147681a",
   "metadata": {},
   "source": [
    "**Figure 10. Train Accuracy Against Test Accuracy (MLP)**"
   ]
  },
  {
   "cell_type": "markdown",
   "id": "62847d1c-ab09-460c-8d48-2e61b81bae5c",
   "metadata": {},
   "source": [
    "We compare this with our TensorFlow model."
   ]
  },
  {
   "cell_type": "code",
   "execution_count": 22,
   "id": "42dc4d08-582b-4058-90a4-b4aa26cb3f70",
   "metadata": {},
   "outputs": [
    {
     "name": "stdout",
     "output_type": "stream",
     "text": [
      "1969/1969 [==============================] - 1s 376us/step - loss: 0.2211 - accuracy: 0.9378\n",
      "219/219 [==============================] - 0s 389us/step - loss: 0.2131 - accuracy: 0.9427\n",
      "1969/1969 [==============================] - 1s 367us/step - loss: 0.2214 - accuracy: 0.9385\n",
      "219/219 [==============================] - 0s 366us/step - loss: 0.2520 - accuracy: 0.9283\n",
      "1969/1969 [==============================] - 1s 385us/step - loss: 0.2146 - accuracy: 0.9390\n",
      "219/219 [==============================] - 0s 402us/step - loss: 0.2367 - accuracy: 0.9326\n",
      "1969/1969 [==============================] - 1s 373us/step - loss: 0.2241 - accuracy: 0.9373\n",
      "219/219 [==============================] - 0s 389us/step - loss: 0.2376 - accuracy: 0.9353\n",
      "1969/1969 [==============================] - 1s 370us/step - loss: 0.2198 - accuracy: 0.9389\n",
      "219/219 [==============================] - 0s 370us/step - loss: 0.2455 - accuracy: 0.9279\n",
      "1969/1969 [==============================] - 1s 403us/step - loss: 0.2163 - accuracy: 0.9395\n",
      "219/219 [==============================] - 0s 411us/step - loss: 0.2365 - accuracy: 0.9329\n",
      "1969/1969 [==============================] - 1s 395us/step - loss: 0.2135 - accuracy: 0.9400\n",
      "219/219 [==============================] - 0s 434us/step - loss: 0.2403 - accuracy: 0.9291\n",
      "1969/1969 [==============================] - 1s 401us/step - loss: 0.2158 - accuracy: 0.9397\n",
      "219/219 [==============================] - 0s 389us/step - loss: 0.2453 - accuracy: 0.9297\n",
      "1969/1969 [==============================] - 1s 388us/step - loss: 0.2136 - accuracy: 0.9401\n",
      "219/219 [==============================] - 0s 384us/step - loss: 0.2147 - accuracy: 0.9410\n",
      "1969/1969 [==============================] - 1s 378us/step - loss: 0.2203 - accuracy: 0.9386\n",
      "219/219 [==============================] - 0s 389us/step - loss: 0.1885 - accuracy: 0.9474\n"
     ]
    }
   ],
   "source": [
    "train_scores1, test_scores1 = [], []\n",
    "\n",
    "for train_indices, test_indices in kf.split(X):\n",
    "    \n",
    "    tf_MLP3 = tf.keras.models.Sequential([\n",
    "      tf.keras.layers.InputLayer(input_shape=X_train[0].shape), \n",
    "\n",
    "      tf.keras.layers.Dense(100, activation='relu',kernel_initializer=tf.keras.initializers.GlorotUniform,\n",
    "                            bias_initializer=tf.keras.initializers.GlorotUniform),  #same initialization as MLP\n",
    "      tf.keras.layers.Dense(n_classes, activation='softmax'),         \n",
    "    ])\n",
    "    \n",
    "    tf_MLP3.compile(optimizer=tf.keras.optimizers.SGD(learning_rate=0.1),\n",
    "                  loss=\"categorical_crossentropy\",\n",
    "                  metrics=['accuracy'])\n",
    "    \n",
    "    tf_MLP3.fit(X[train_indices], Y[train_indices], batch_size = len(X[train_indices]), epochs=1000, verbose=0)\n",
    "    \n",
    "    train_scores1.append(tf_MLP3.evaluate(X[train_indices], Y[train_indices]))\n",
    "    test_scores1.append(tf_MLP3.evaluate(X[test_indices], Y[test_indices]))"
   ]
  },
  {
   "cell_type": "code",
   "execution_count": 55,
   "id": "bdf8172d-b394-4ecb-a709-591f65b2a04e",
   "metadata": {},
   "outputs": [
    {
     "name": "stdout",
     "output_type": "stream",
     "text": [
      "0.0008648060864319754 0.006464598607864113\n",
      "0.9389396965503692 0.9346857070922852\n"
     ]
    }
   ],
   "source": [
    "print(np.std(train_scores1[:,1]), np.std(test_scores1[:,1]))\n",
    "print(np.mean(train_scores1[:,1]), np.mean(test_scores1[:,1]))"
   ]
  },
  {
   "cell_type": "markdown",
   "id": "c9ae9faa-5c8c-4d56-9bea-9b64d94cf97a",
   "metadata": {},
   "source": [
    "For the TensorFlow model, we see that the mean of train and test accuracies of 10-fold training are slight higher: **0.9389** and **0.9346**, with low standard deviations **8e-4** and **6e-3**."
   ]
  },
  {
   "cell_type": "code",
   "execution_count": 57,
   "id": "f6f7f870-99f9-4693-8e0a-561c14e4e53e",
   "metadata": {},
   "outputs": [
    {
     "data": {
      "text/plain": [
       "(0.925, 0.95)"
      ]
     },
     "execution_count": 57,
     "metadata": {},
     "output_type": "execute_result"
    },
    {
     "data": {
      "image/png": "[encoded data removed]",
      "text/plain": [
       "<Figure size 432x288 with 1 Axes>"
      ]
     },
     "metadata": {
      "needs_background": "light"
     },
     "output_type": "display_data"
    }
   ],
   "source": [
    "train_scores1, test_scores1 = np.asarray(train_scores1), np.asarray(test_scores1)\n",
    "\n",
    "plt.plot(test_scores1[:,1], train_scores1[:,1], 'rx', label='test vs train')\n",
    "plt.xlabel('test_accuracy')\n",
    "plt.ylabel('train_accuracy')\n",
    "plt.title('100 neurons in a hidden layer')\n",
    "x = np.linspace(0,1,100)\n",
    "plt.plot(x, x, 'k-', label='if test = train')\n",
    "plt.legend()\n",
    "plt.ylim([.925,.95])\n",
    "plt.xlim([.925,.95])"
   ]
  },
  {
   "cell_type": "markdown",
   "id": "ed962ac9-8b1c-4a7e-a8ed-49ca38b5a65a",
   "metadata": {},
   "source": [
    "**Figure 11. Train Accuracy Against Test Accuracy (tf_MLP)**"
   ]
  },
  {
   "cell_type": "markdown",
   "id": "85588542-122c-4b73-b29f-9e60d33d15d2",
   "metadata": {},
   "source": [
    "My implementation of MLP worked very well. From the calculations as well as figures 10 & 11, we see that the standard deivation of test accuracies is about **10** times larger than that of train accuracies. This can be a feature of MNIST dataset, and the standard deviation may be reduced if we increase number of layers or layer size. Overall, the observations from the two models agree with other."
   ]
  },
  {
   "cell_type": "markdown",
   "id": "6d7f5462-bb54-446e-816c-c30f546be86e",
   "metadata": {},
   "source": [
    "## 5. Discussion"
   ]
  },
  {
   "cell_type": "markdown",
   "id": "233d27a2-87ab-4000-aae1-13919e90e9ba",
   "metadata": {},
   "source": [
    "### 5.1 The Wrongly Predicted Digits"
   ]
  },
  {
   "cell_type": "code",
   "execution_count": 71,
   "id": "e317bff6-80b4-480c-9a34-7dbdbc3c97eb",
   "metadata": {},
   "outputs": [],
   "source": [
    "y_pred = MNIST_MLP.predict_label(X_test)"
   ]
  },
  {
   "cell_type": "code",
   "execution_count": 70,
   "id": "9220094d-d496-4d85-ba7e-fecb9a11e17e",
   "metadata": {},
   "outputs": [],
   "source": [
    "(dummy1, Y_train_truth), (dummy2, Y_test_truth) = mnist.load_data()"
   ]
  },
  {
   "cell_type": "code",
   "execution_count": 72,
   "id": "1aa92580-9d25-4ea4-873f-b79c6f191338",
   "metadata": {},
   "outputs": [
    {
     "data": {
      "image/png": "[encoded data removed]",
      "text/plain": [
       "<Figure size 1152x144 with 8 Axes>"
      ]
     },
     "metadata": {
      "needs_background": "light"
     },
     "output_type": "display_data"
    }
   ],
   "source": [
    "fig, ax = plt.subplots(nrows=1, ncols=8, figsize=(16,2))\n",
    "wrongs = y_pred != Y_test_truth\n",
    "samp = X_test[wrongs]\n",
    "y_samp_true = Y_test_truth[wrongs]\n",
    "y_samp_pred = y_pred[wrongs]\n",
    "n = len(samp)\n",
    "for i in range(8):\n",
    "    idx = np.random.randint(0, n)\n",
    "    img = np.reshape(samp[idx]*16, (28,28))\n",
    "    ax[i].imshow(img, cmap='gray_r')\n",
    "    ax[i].set_title(f\"Acutual: {y_samp_true[idx]}\\nPrediction: {y_samp_pred[idx]}\")"
   ]
  },
  {
   "cell_type": "markdown",
   "id": "c4cb1d4c-9e88-496d-9276-6f0542aeb24e",
   "metadata": {},
   "source": [
    "**Figure 12. A Sample of Wrongly Predicted Digits by MNIST_MLP**"
   ]
  },
  {
   "cell_type": "markdown",
   "id": "3dd27e12-afa7-42c5-9e16-b9594e8ae5bb",
   "metadata": {},
   "source": [
    "By looking at the wrongly predicted digits, we can get an idea what kind of mistakes the model is making in recognizing digits. "
   ]
  },
  {
   "cell_type": "markdown",
   "id": "0cf105c5-db6f-4e4d-b5f2-c6d8c8b83a70",
   "metadata": {},
   "source": [
    "It can be seen that some of the handwritten digits are not easy to tell even with human eyes, these may be recognizable by the model if we add more layers and increase sizes of the layers, for the model to learn for unique features of each digit. For the other wrongly predicted digits, we see that they are either slightly slented or decentered. There are due to MLP's limitations that are going to be elaborated in the next subsection."
   ]
  },
  {
   "cell_type": "markdown",
   "id": "13888d2e-ef4c-44a2-850f-0aa029968c13",
   "metadata": {},
   "source": [
    "### 5.2 Limitation of MLP"
   ]
  },
  {
   "cell_type": "markdown",
   "id": "f11ed3b5-b511-4cdd-a97f-34a889514ded",
   "metadata": {},
   "source": [
    "<img src=\"cnn_rotation_invariance.webp\" width=\"600\" align=\"center\"><br>\n",
    "**Figure 13. The Perceptron Function** (<i>Source</i>: <a href=\"https://pyimagesearch.com/2021/05/14/are-cnns-invariant-to-translation-rotation-and-scaling/\"> <i>Adrian Rosebrock</i></a>)\n"
   ]
  },
  {
   "cell_type": "markdown",
   "id": "2ef0312e-8037-4674-8c65-6ccb73ad261e",
   "metadata": {},
   "source": [
    "Continuing on the section 3's point about the limitations of MLP in image classification, we know that MLPs only take in vectors as their input. This means that MLPs intrinsically lack spatial awareness. Unlike the intrinsically translation- invariant CNNs, which takes in matrices and can also recognize rotated and scaled images by the benefit of the Max-pooling layer, MLPs are limited to have fully-connected layers and simply cannot recognize translated images. For this section we just look at the rotated digits from the same MNIST dataset."
   ]
  },
  {
   "cell_type": "code",
   "execution_count": 108,
   "id": "505eb4e8-7dd0-4236-9a1d-9ca8abb19791",
   "metadata": {},
   "outputs": [
    {
     "data": {
      "text/plain": [
       "((60000, 28, 28), (10000, 28, 28))"
      ]
     },
     "execution_count": 108,
     "metadata": {},
     "output_type": "execute_result"
    }
   ],
   "source": [
    "X_train_T.shape, X_test_T.shape"
   ]
  },
  {
   "cell_type": "code",
   "execution_count": 73,
   "id": "92a85bcf-59d7-409b-9be6-64820847ac8e",
   "metadata": {},
   "outputs": [
    {
     "name": "stdout",
     "output_type": "stream",
     "text": [
      "X_train:  (60000, 784)\n",
      "X_test:  (10000, 784)\n"
     ]
    }
   ],
   "source": [
    "#preprocess data, see figure 2b\n",
    "X_train_T, X_test_T = np.asarray([X.flatten() for X in X_train_T]), np.asarray([X.flatten() for X in X_test_T])\n",
    "X_train_T, X_test_T = X_train_T / 255, X_test_T / 255\n",
    "print('X_train: ', str(X_train_T.shape))\n",
    "print('X_test: ', str(X_test_T.shape))"
   ]
  },
  {
   "cell_type": "code",
   "execution_count": 77,
   "id": "6e7bafd1-a92c-45ff-9ef1-7c8838d1a57b",
   "metadata": {},
   "outputs": [
    {
     "data": {
      "text/plain": [
       "(0.1785, 0.15096666666666667)"
      ]
     },
     "execution_count": 77,
     "metadata": {},
     "output_type": "execute_result"
    }
   ],
   "source": [
    "MNIST_MLP.predict(X_test_T, Y_test), MNIST_MLP.predict(X_train_T, Y_train)"
   ]
  },
  {
   "cell_type": "markdown",
   "id": "677493df-88d8-4cf1-b4cf-9b24f4a4a5ae",
   "metadata": {},
   "source": [
    "We see the our implementaion totally fails to recognize the digits. The accuracies (**0.1785**, **0.1510**) are not absolutelu atrocious (that is, close to 0.1, the probability of randomly guessing), this may be because of some digits still look more like themselves than the others after the 90 degrees counterclockwise rotation (for example the digit **0**). Nonetheless this is not comparable to our over **93%** accuracy when donw with the dedicated test data. "
   ]
  },
  {
   "cell_type": "markdown",
   "id": "0762d7a2-96e5-4e2f-a49e-581bd178e720",
   "metadata": {},
   "source": [
    "### 5.3 Blinkers\n",
    "\n",
    "In addition, we can also test out the implemented MLP with the gaussian blinkers generator from `blinker.py` in the PC3270 library."
   ]
  },
  {
   "cell_type": "code",
   "execution_count": 84,
   "id": "4765ba43-9433-42ef-86e0-20ced872f8f2",
   "metadata": {},
   "outputs": [
    {
     "data": {
      "text/plain": [
       "Text(0, 0.5, 'arbitrary feature 2')"
      ]
     },
     "execution_count": 84,
     "metadata": {},
     "output_type": "execute_result"
    },
    {
     "data": {
      "image/png": "[encoded data removed]",
      "text/plain": [
       "<Figure size 360x360 with 1 Axes>"
      ]
     },
     "metadata": {
      "needs_background": "light"
     },
     "output_type": "display_data"
    }
   ],
   "source": [
    "import blinkers\n",
    "from sklearn.model_selection import train_test_split\n",
    "from matplotlib import pyplot as plt\n",
    "\n",
    "num_clusters = 10\n",
    "avg_cluster_size = 200\n",
    "blink = blinkers.gaussian_blinkers(num_clusters=num_clusters, avg_cluster_size=avg_cluster_size)\n",
    "blink.gen_data(rand_seed=1)\n",
    "\n",
    "#spliting train and test data\n",
    "design_matrix = blink.meas_positions.copy()\n",
    "labels = blink.truelabels.copy()\n",
    "X_train_blinker, X_test_blinker, Y_train_blinker, Y_test_blinker = train_test_split(design_matrix, labels, test_size=0.2)\n",
    "\n",
    "#plotting data\n",
    "fig, ax = plt.subplots(1,1,figsize=(5,5))\n",
    "ax.scatter(blink.meas_positions[:,0], blink.meas_positions[:,1], c=blink.truelabels, s=1)\n",
    "ax.scatter(blink.truemeans[:,0], blink.truemeans[:,1], c='black', s=30)\n",
    "ax.set_xlabel('arbitrary feature 1')\n",
    "ax.set_ylabel('arbitrary feature 2')"
   ]
  },
  {
   "cell_type": "markdown",
   "id": "f39b17a3-ea0a-4e17-b143-f2e106d74598",
   "metadata": {},
   "source": [
    "**Figure 14. Dataset Generated by `blinker.py`**"
   ]
  },
  {
   "cell_type": "markdown",
   "id": "de973a03-df97-4be5-a208-b8be76b72cdb",
   "metadata": {},
   "source": [
    "Preprocessing the truth-labels:"
   ]
  },
  {
   "cell_type": "code",
   "execution_count": 86,
   "id": "30232d60-87b9-43b7-bc09-930f544418b6",
   "metadata": {},
   "outputs": [],
   "source": [
    "Y_train_blinker, Y_test_blinker = OneHot.fit_transform(Y_train_blinker.reshape(len(Y_train_blinker), -1)), OneHot.transform(Y_test_blinker.reshape(len(Y_test_blinker), -1))"
   ]
  },
  {
   "cell_type": "markdown",
   "id": "1e550cbd-8df5-4f2b-9b80-7f5f3677d8fa",
   "metadata": {},
   "source": [
    "In this case the design matrix just cosists of 2-dimensional vectors, therefore do not require any preprocessing. We proceed to create an instance and fit these data."
   ]
  },
  {
   "cell_type": "code",
   "execution_count": 89,
   "id": "9af76bd4-2b76-4eb5-b757-0cd5f858adc8",
   "metadata": {},
   "outputs": [
    {
     "name": "stdout",
     "output_type": "stream",
     "text": [
      "Iteration: 99 Model Loss:  0.0812330537146224 Train Accuracy: 0.5902140672782875\n",
      "Iteration: 199 Model Loss:  0.06820692228225242 Train Accuracy: 0.6477064220183486\n",
      "Iteration: 299 Model Loss:  0.04720587622586201 Train Accuracy: 0.7859327217125383\n",
      "Iteration: 399 Model Loss:  0.04069887797600464 Train Accuracy: 0.8085626911314985\n",
      "Iteration: 499 Model Loss:  0.038744658517067966 Train Accuracy: 0.7614678899082569\n",
      "Iteration: 599 Model Loss:  0.03356512628406271 Train Accuracy: 0.7834862385321101\n",
      "Iteration: 699 Model Loss:  0.03283997022750902 Train Accuracy: 0.9021406727828746\n",
      "Iteration: 799 Model Loss:  0.03345009937117194 Train Accuracy: 0.8782874617737003\n",
      "Iteration: 899 Model Loss:  0.029973470457982508 Train Accuracy: 0.909480122324159\n",
      "Iteration: 999 Model Loss:  0.0243163361667901 Train Accuracy: 0.9431192660550459\n"
     ]
    }
   ],
   "source": [
    "BLINKER_MLP = MLP([100,10])\n",
    "BLINKER_MLP.fit(X_train_blinker, Y_train_blinker, eta = 0.05)"
   ]
  },
  {
   "cell_type": "code",
   "execution_count": 90,
   "id": "7da90ca9-63af-4b00-a01e-94f8716a0846",
   "metadata": {},
   "outputs": [
    {
     "data": {
      "text/plain": [
       "(0.9431192660550459, 0.9437652811735942)"
      ]
     },
     "execution_count": 90,
     "metadata": {},
     "output_type": "execute_result"
    }
   ],
   "source": [
    "BLINKER_MLP.predict(X_train_blinker, Y_train_blinker), BLINKER_MLP.predict(X_test_blinker, Y_test_blinker)"
   ]
  },
  {
   "cell_type": "markdown",
   "id": "adfbe567-f025-45d0-9881-cfaa019367ab",
   "metadata": {},
   "source": [
    "Expectedly, my implementation gives high accuracy (**0.9431**, **0.9438**) when used on simple data generator such as `blinkers`."
   ]
  },
  {
   "cell_type": "markdown",
   "id": "45792b1a-d75c-425f-a21e-34d7fabab8ff",
   "metadata": {},
   "source": [
    "### 5.4 Conclusion\n",
    "\n",
    "This project has been a long journey. Started from the basics of theory, I have derived the SGD of MLP, implemented the backprop and developed a MLP class fully from scratch. It was a success and produced comparable prediction results in reasonable amount of time to its counterpart built with TensorFlow. I also cross-valided my model with K-Fold Validation and with the MLP built with TensorFlow. I have picked up many syntaxes when dealing with packages such as `tensorflow.keras` and `sklearn`, as well as quite improved my coding skills in general. With a trained and strong basis in MLP, I think my next step is looking at the CNNs, which are a more efficient and powerful class of feedforward neural networks. I have always been fascinated by 3D-GANs since I first saw the <a href=\"https://marcoamonteiro.github.io/pi-GAN-website/\"> $\\pi$</a>-GAN paper, now I can properly get my hands on them. "
   ]
  },
  {
   "cell_type": "markdown",
   "id": "67cc6fa8-9560-4e26-9926-2278d41ca885",
   "metadata": {},
   "source": [
    "----\n",
    "## References\n",
    "\n",
    "Murphy, K. *Probabilistic Machine Learning: An Introduction*. MIT Press, 2022\n",
    "\n",
    "Skalski, P. *Let’s code a Neural Network in plain NumPy*. Retrieved from: <a href=\"https://towardsdatascience.com/lets-code-a-neural-network-in-plain-numpy-ae7e74410795\"> <i>Towards Data Science</i></a>\n",
    "\n",
    "Goodfellow et al. *Deep Learning*.  MIT Press, 2016\n",
    "\n",
    "Agnihotri, A. *Building a Neural Net from Scratch using Numpy*. Retrive from: <a href=\"https://github.com/akash-agni/DeepLearning/blob/main/Neural_Network_From_Scratch_using_Numpy.ipynb\"> <i>GitHub</i></a>\n",
    "\n",
    "Brownlee, J. *Why One-Hot Encode Data in Machine Learning?* Retrive from: <a href=\"https://machinelearningmastery.com/why-one-hot-encode-data-in-machine-learning/\"> <i>Machine Learning Mystery</i></a>\n",
    "\n",
    "Brownlee, J. *A Gentle Introduction to k-fold Cross-Validation* Retrive from: <a href=\"https://machinelearningmastery.com/k-fold-cross-validation/\"> <i>Machine Learning Mystery</i></a>\n",
    "\n",
    "Jana, A. *Understanding and implementing Neural Network with SoftMax in Python from scratch* Retrive from: <a href=\"http://www.adeveloperdiary.com/data-science/deep-learning/neural-network-with-softmax-in-python/\"> <i>A Developer Diary</i></a>\n",
    "\n",
    "Jaderberg, M. *Spatial Transformer Networks* In: *NIPS 2015*\n",
    "\n",
    "Khan, R. *Nothing but NumPy: Understanding & Creating Neural Networks with Computational Graphs from Scratch* <a href=\"https://www.kdnuggets.com/2019/08/numpy-neural-networks-computational-graphs.html\"> <i>A Developer Diary</i></a>\n",
    "\n",
    "Brown, T et al. *Language Models are Few-Shot Learners*. In: (May 2020). arXiv:<a href=\"https://arxiv.org/abs/2005.14165\"> <i>2005.14165</i></a> .\n",
    "\n",
    "McCaffrey, J. *Neural Network Glorot Initialization* Retrive from: <a href=\"https://jamesmccaffrey.wordpress.com/2017/06/21/neural-network-glorot-initialization/\"> <i>WordPress</i></a>\n",
    "\n",
    "Raschka, S. *Model Evaluation, Model Selection, and Algorithm Selection in Machine Learning* In: (Nov 2018). arXiv:<a href=\"https://arxiv.org/abs/1811.12808\"> <i>1811.12808</i></a> ."
   ]
  },
  {
   "cell_type": "code",
   "execution_count": null,
   "id": "bc9733e7-5559-44c6-a7cd-1cf67ec78bc8",
   "metadata": {},
   "outputs": [],
   "source": []
  }
 ],
 "metadata": {
  "kernelspec": {
   "display_name": "Python 3 (ipykernel)",
   "language": "python",
   "name": "python3"
  },
  "language_info": {
   "codemirror_mode": {
    "name": "ipython",
    "version": 3
   },
   "file_extension": ".py",
   "mimetype": "text/x-python",
   "name": "python",
   "nbconvert_exporter": "python",
   "pygments_lexer": "ipython3",
   "version": "3.9.7"
  }
 },
 "nbformat": 4,
 "nbformat_minor": 5
}
